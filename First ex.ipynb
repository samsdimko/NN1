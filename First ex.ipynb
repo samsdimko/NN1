{
 "cells": [
  {
   "cell_type": "code",
   "execution_count": 33,
   "metadata": {},
   "outputs": [
    {
     "name": "stdout",
     "output_type": "stream",
     "text": [
      "Extracting MNIST_data/train-images-idx3-ubyte.gz\n",
      "Extracting MNIST_data/train-labels-idx1-ubyte.gz\n",
      "Extracting MNIST_data/t10k-images-idx3-ubyte.gz\n",
      "Extracting MNIST_data/t10k-labels-idx1-ubyte.gz\n"
     ]
    }
   ],
   "source": [
    "\n",
    "import tensorflow\n",
    "import numpy\n",
    "\n",
    "from tensorflow.examples.tutorials.mnist import input_data\n",
    "mnist = input_data.read_data_sets('MNIST_data', one_hot=True)\n",
    "import matplotlib.pyplot as plt\n",
    "\n",
    "from keras.models import Sequential \n",
    "from keras.layers import Dense, Conv2D, Dropout, Flatten, MaxPooling2D\n",
    "from keras.utils import np_utils\n",
    "from keras.datasets import mnist\n",
    "\n",
    "\n",
    "numpy.random.seed(42)\n",
    "(x_train, y_train), (x_test, y_test) = mnist.load_data()"
   ]
  },
  {
   "cell_type": "code",
   "execution_count": 19,
   "metadata": {},
   "outputs": [],
   "source": [
    "x_train = x_train.reshape(60000, 784)\n",
    "x_train = x_train.astype('float32')\n",
    "x_train /= 255\n",
    "\n",
    "y_train = np_utils.to_categorical(y_train, 10)\n"
   ]
  },
  {
   "cell_type": "code",
   "execution_count": 22,
   "metadata": {},
   "outputs": [
    {
     "name": "stdout",
     "output_type": "stream",
     "text": [
      "WARNING:tensorflow:From /home/dmitry/anaconda3/lib/python3.7/site-packages/keras/backend/tensorflow_backend.py:3295: The name tf.log is deprecated. Please use tf.math.log instead.\n",
      "\n",
      "_________________________________________________________________\n",
      "Layer (type)                 Output Shape              Param #   \n",
      "=================================================================\n",
      "dense_5 (Dense)              (None, 800)               628000    \n",
      "_________________________________________________________________\n",
      "dense_6 (Dense)              (None, 10)                8010      \n",
      "=================================================================\n",
      "Total params: 636,010\n",
      "Trainable params: 636,010\n",
      "Non-trainable params: 0\n",
      "_________________________________________________________________\n",
      "None\n"
     ]
    },
    {
     "name": "stderr",
     "output_type": "stream",
     "text": [
      "/home/dmitry/anaconda3/lib/python3.7/site-packages/ipykernel_launcher.py:3: UserWarning: Update your `Dense` call to the Keras 2 API: `Dense(800, input_dim=784, activation=\"relu\", kernel_initializer=\"normal\")`\n",
      "  This is separate from the ipykernel package so we can avoid doing imports until\n",
      "/home/dmitry/anaconda3/lib/python3.7/site-packages/ipykernel_launcher.py:4: UserWarning: Update your `Dense` call to the Keras 2 API: `Dense(10, activation=\"softmax\", kernel_initializer=\"normal\")`\n",
      "  after removing the cwd from sys.path.\n"
     ]
    }
   ],
   "source": [
    "model = Sequential()\n",
    "\n",
    "model.add(Dense(800, input_dim = 784, init = \"normal\", activation = \"relu\"))\n",
    "model.add(Dense(10, init = \"normal\", activation = \"softmax\"))\n",
    "\n",
    "model.compile(loss = \"categorical_crossentropy\", optimizer = \"SGD\", metrics = [\"accuracy\"])\n",
    "print(model.summary())"
   ]
  },
  {
   "cell_type": "code",
   "execution_count": 23,
   "metadata": {},
   "outputs": [
    {
     "name": "stderr",
     "output_type": "stream",
     "text": [
      "/home/dmitry/anaconda3/lib/python3.7/site-packages/ipykernel_launcher.py:1: UserWarning: The `nb_epoch` argument in `fit` has been renamed `epochs`.\n",
      "  \"\"\"Entry point for launching an IPython kernel.\n"
     ]
    },
    {
     "name": "stdout",
     "output_type": "stream",
     "text": [
      "WARNING:tensorflow:From /home/dmitry/anaconda3/lib/python3.7/site-packages/tensorflow/python/ops/math_grad.py:1250: add_dispatch_support.<locals>.wrapper (from tensorflow.python.ops.array_ops) is deprecated and will be removed in a future version.\n",
      "Instructions for updating:\n",
      "Use tf.where in 2.0, which has the same broadcast rule as np.where\n",
      "WARNING:tensorflow:From /home/dmitry/anaconda3/lib/python3.7/site-packages/keras/backend/tensorflow_backend.py:986: The name tf.assign_add is deprecated. Please use tf.compat.v1.assign_add instead.\n",
      "\n",
      "Epoch 1/100\n",
      "60000/60000 [==============================] - 15s 244us/step - loss: 1.2067 - acc: 0.7226\n",
      "Epoch 2/100\n",
      "60000/60000 [==============================] - 10s 168us/step - loss: 0.6028 - acc: 0.8584\n",
      "Epoch 3/100\n",
      "60000/60000 [==============================] - 10s 170us/step - loss: 0.4762 - acc: 0.8796\n",
      "Epoch 4/100\n",
      "60000/60000 [==============================] - 10s 170us/step - loss: 0.4182 - acc: 0.8909\n",
      "Epoch 5/100\n",
      "60000/60000 [==============================] - 10s 171us/step - loss: 0.3836 - acc: 0.8978\n",
      "Epoch 6/100\n",
      "60000/60000 [==============================] - 10s 168us/step - loss: 0.3596 - acc: 0.9030\n",
      "Epoch 7/100\n",
      "60000/60000 [==============================] - 10s 168us/step - loss: 0.3417 - acc: 0.9069\n",
      "Epoch 8/100\n",
      "60000/60000 [==============================] - 11s 178us/step - loss: 0.3273 - acc: 0.9106\n",
      "Epoch 9/100\n",
      "60000/60000 [==============================] - 11s 184us/step - loss: 0.3156 - acc: 0.9131\n",
      "Epoch 10/100\n",
      "60000/60000 [==============================] - 11s 184us/step - loss: 0.3054 - acc: 0.9156\n",
      "Epoch 11/100\n",
      "60000/60000 [==============================] - 12s 201us/step - loss: 0.2965 - acc: 0.9180\n",
      "Epoch 12/100\n",
      "60000/60000 [==============================] - 12s 201us/step - loss: 0.2887 - acc: 0.9201\n",
      "Epoch 13/100\n",
      "60000/60000 [==============================] - 12s 197us/step - loss: 0.2815 - acc: 0.9222\n",
      "Epoch 14/100\n",
      "60000/60000 [==============================] - 12s 201us/step - loss: 0.2748 - acc: 0.9243\n",
      "Epoch 15/100\n",
      "60000/60000 [==============================] - 11s 182us/step - loss: 0.2688 - acc: 0.9259\n",
      "Epoch 16/100\n",
      "60000/60000 [==============================] - 11s 182us/step - loss: 0.2632 - acc: 0.9270\n",
      "Epoch 17/100\n",
      "60000/60000 [==============================] - 10s 163us/step - loss: 0.2578 - acc: 0.9293\n",
      "Epoch 18/100\n",
      "60000/60000 [==============================] - 10s 166us/step - loss: 0.2530 - acc: 0.9305\n",
      "Epoch 19/100\n",
      "60000/60000 [==============================] - 11s 187us/step - loss: 0.2481 - acc: 0.9319\n",
      "Epoch 20/100\n",
      "60000/60000 [==============================] - 10s 160us/step - loss: 0.2436 - acc: 0.9331\n",
      "Epoch 21/100\n",
      "60000/60000 [==============================] - 9s 143us/step - loss: 0.2393 - acc: 0.9345\n",
      "Epoch 22/100\n",
      "60000/60000 [==============================] - 12s 196us/step - loss: 0.2351 - acc: 0.9357\n",
      "Epoch 23/100\n",
      "60000/60000 [==============================] - 17s 279us/step - loss: 0.2312 - acc: 0.9367\n",
      "Epoch 24/100\n",
      "60000/60000 [==============================] - 11s 190us/step - loss: 0.2275 - acc: 0.9377\n",
      "Epoch 25/100\n",
      "60000/60000 [==============================] - 9s 142us/step - loss: 0.2237 - acc: 0.9386\n",
      "Epoch 26/100\n",
      "60000/60000 [==============================] - 8s 135us/step - loss: 0.2202 - acc: 0.9396\n",
      "Epoch 27/100\n",
      "60000/60000 [==============================] - 8s 133us/step - loss: 0.2167 - acc: 0.9405\n",
      "Epoch 28/100\n",
      "60000/60000 [==============================] - 9s 150us/step - loss: 0.2134 - acc: 0.9414\n",
      "Epoch 29/100\n",
      "60000/60000 [==============================] - 9s 146us/step - loss: 0.2101 - acc: 0.9427\n",
      "Epoch 30/100\n",
      "60000/60000 [==============================] - 9s 147us/step - loss: 0.2071 - acc: 0.9433\n",
      "Epoch 31/100\n",
      "60000/60000 [==============================] - 10s 168us/step - loss: 0.2041 - acc: 0.9446\n",
      "Epoch 32/100\n",
      "60000/60000 [==============================] - 10s 172us/step - loss: 0.2011 - acc: 0.9451\n",
      "Epoch 33/100\n",
      "60000/60000 [==============================] - 13s 210us/step - loss: 0.1982 - acc: 0.9460\n",
      "Epoch 34/100\n",
      "60000/60000 [==============================] - 11s 183us/step - loss: 0.1954 - acc: 0.9467\n",
      "Epoch 35/100\n",
      "60000/60000 [==============================] - 12s 206us/step - loss: 0.1927 - acc: 0.9476\n",
      "Epoch 36/100\n",
      "60000/60000 [==============================] - 9s 150us/step - loss: 0.1901 - acc: 0.9483\n",
      "Epoch 37/100\n",
      "60000/60000 [==============================] - 8s 138us/step - loss: 0.1875 - acc: 0.9486\n",
      "Epoch 38/100\n",
      "60000/60000 [==============================] - 11s 183us/step - loss: 0.1850 - acc: 0.9493\n",
      "Epoch 39/100\n",
      "60000/60000 [==============================] - 13s 222us/step - loss: 0.1825 - acc: 0.9500\n",
      "Epoch 40/100\n",
      "60000/60000 [==============================] - 13s 222us/step - loss: 0.1801 - acc: 0.9506\n",
      "Epoch 41/100\n",
      "60000/60000 [==============================] - 13s 209us/step - loss: 0.1778 - acc: 0.9513\n",
      "Epoch 42/100\n",
      "60000/60000 [==============================] - 14s 232us/step - loss: 0.1756 - acc: 0.9519\n",
      "Epoch 43/100\n",
      "60000/60000 [==============================] - 14s 230us/step - loss: 0.1733 - acc: 0.9522\n",
      "Epoch 44/100\n",
      "60000/60000 [==============================] - 14s 234us/step - loss: 0.1712 - acc: 0.9530\n",
      "Epoch 45/100\n",
      "60000/60000 [==============================] - 14s 227us/step - loss: 0.1690 - acc: 0.9534\n",
      "Epoch 46/100\n",
      "60000/60000 [==============================] - 14s 235us/step - loss: 0.1669 - acc: 0.9538\n",
      "Epoch 47/100\n",
      "60000/60000 [==============================] - 12s 205us/step - loss: 0.1650 - acc: 0.9545\n",
      "Epoch 48/100\n",
      "60000/60000 [==============================] - 11s 190us/step - loss: 0.1630 - acc: 0.9548\n",
      "Epoch 49/100\n",
      "60000/60000 [==============================] - 11s 180us/step - loss: 0.1611 - acc: 0.9555\n",
      "Epoch 50/100\n",
      "60000/60000 [==============================] - 10s 172us/step - loss: 0.1592 - acc: 0.9563\n",
      "Epoch 51/100\n",
      "60000/60000 [==============================] - 10s 166us/step - loss: 0.1573 - acc: 0.9566\n",
      "Epoch 52/100\n",
      "60000/60000 [==============================] - 10s 166us/step - loss: 0.1556 - acc: 0.9573\n",
      "Epoch 53/100\n",
      "60000/60000 [==============================] - 10s 167us/step - loss: 0.1538 - acc: 0.9573\n",
      "Epoch 54/100\n",
      "60000/60000 [==============================] - 10s 166us/step - loss: 0.1521 - acc: 0.9580\n",
      "Epoch 55/100\n",
      "60000/60000 [==============================] - 10s 167us/step - loss: 0.1504 - acc: 0.9587\n",
      "Epoch 56/100\n",
      "60000/60000 [==============================] - 10s 167us/step - loss: 0.1488 - acc: 0.9590\n",
      "Epoch 57/100\n",
      "60000/60000 [==============================] - 10s 168us/step - loss: 0.1472 - acc: 0.9594\n",
      "Epoch 58/100\n",
      "60000/60000 [==============================] - 10s 167us/step - loss: 0.1456 - acc: 0.9600\n",
      "Epoch 59/100\n",
      "60000/60000 [==============================] - 10s 169us/step - loss: 0.1441 - acc: 0.9606\n",
      "Epoch 60/100\n",
      "60000/60000 [==============================] - 10s 167us/step - loss: 0.1425 - acc: 0.9608\n",
      "Epoch 61/100\n",
      "60000/60000 [==============================] - 10s 169us/step - loss: 0.1410 - acc: 0.9616\n",
      "Epoch 62/100\n",
      "60000/60000 [==============================] - 10s 167us/step - loss: 0.1396 - acc: 0.9621\n",
      "Epoch 63/100\n",
      "60000/60000 [==============================] - 10s 170us/step - loss: 0.1382 - acc: 0.9622\n",
      "Epoch 64/100\n",
      "60000/60000 [==============================] - 10s 170us/step - loss: 0.1368 - acc: 0.9628\n",
      "Epoch 65/100\n",
      "60000/60000 [==============================] - 10s 169us/step - loss: 0.1355 - acc: 0.9631\n",
      "Epoch 66/100\n",
      "60000/60000 [==============================] - 10s 167us/step - loss: 0.1341 - acc: 0.9636\n",
      "Epoch 67/100\n",
      "60000/60000 [==============================] - 10s 168us/step - loss: 0.1327 - acc: 0.9644\n",
      "Epoch 68/100\n",
      "60000/60000 [==============================] - 10s 169us/step - loss: 0.1314 - acc: 0.9642\n",
      "Epoch 69/100\n",
      "60000/60000 [==============================] - 10s 168us/step - loss: 0.1302 - acc: 0.9647\n",
      "Epoch 70/100\n",
      "60000/60000 [==============================] - 11s 190us/step - loss: 0.1290 - acc: 0.9649\n",
      "Epoch 71/100\n",
      "60000/60000 [==============================] - 11s 191us/step - loss: 0.1278 - acc: 0.9657\n",
      "Epoch 72/100\n",
      "60000/60000 [==============================] - 11s 176us/step - loss: 0.1265 - acc: 0.9659\n",
      "Epoch 73/100\n",
      "60000/60000 [==============================] - 10s 168us/step - loss: 0.1253 - acc: 0.9661\n",
      "Epoch 74/100\n",
      "60000/60000 [==============================] - 9s 148us/step - loss: 0.1241 - acc: 0.9663\n",
      "Epoch 75/100\n",
      "60000/60000 [==============================] - 9s 147us/step - loss: 0.1230 - acc: 0.9664\n",
      "Epoch 76/100\n",
      "60000/60000 [==============================] - 9s 149us/step - loss: 0.1219 - acc: 0.9670\n",
      "Epoch 77/100\n",
      "60000/60000 [==============================] - 9s 147us/step - loss: 0.1208 - acc: 0.9672\n",
      "Epoch 78/100\n",
      "60000/60000 [==============================] - 9s 149us/step - loss: 0.1197 - acc: 0.9677\n",
      "Epoch 79/100\n",
      "60000/60000 [==============================] - 9s 147us/step - loss: 0.1186 - acc: 0.9681\n",
      "Epoch 80/100\n",
      "60000/60000 [==============================] - 9s 147us/step - loss: 0.1177 - acc: 0.9682\n",
      "Epoch 81/100\n",
      "60000/60000 [==============================] - 9s 148us/step - loss: 0.1166 - acc: 0.9683\n",
      "Epoch 82/100\n",
      "60000/60000 [==============================] - 9s 147us/step - loss: 0.1156 - acc: 0.9687\n",
      "Epoch 83/100\n",
      "60000/60000 [==============================] - 9s 149us/step - loss: 0.1146 - acc: 0.9691\n",
      "Epoch 84/100\n",
      "60000/60000 [==============================] - 9s 148us/step - loss: 0.1136 - acc: 0.9693\n",
      "Epoch 85/100\n",
      "60000/60000 [==============================] - 9s 148us/step - loss: 0.1127 - acc: 0.9697\n",
      "Epoch 86/100\n",
      "60000/60000 [==============================] - 10s 167us/step - loss: 0.1117 - acc: 0.9698\n",
      "Epoch 87/100\n",
      "60000/60000 [==============================] - 9s 149us/step - loss: 0.1108 - acc: 0.9701\n",
      "Epoch 88/100\n",
      "60000/60000 [==============================] - 9s 148us/step - loss: 0.1098 - acc: 0.9704\n",
      "Epoch 89/100\n",
      "60000/60000 [==============================] - 9s 148us/step - loss: 0.1089 - acc: 0.9704\n",
      "Epoch 90/100\n",
      "60000/60000 [==============================] - 9s 149us/step - loss: 0.1081 - acc: 0.9708\n",
      "Epoch 91/100\n",
      "60000/60000 [==============================] - 9s 149us/step - loss: 0.1072 - acc: 0.9711\n",
      "Epoch 92/100\n",
      "60000/60000 [==============================] - 9s 148us/step - loss: 0.1063 - acc: 0.9715\n",
      "Epoch 93/100\n",
      "60000/60000 [==============================] - 9s 149us/step - loss: 0.1055 - acc: 0.9716\n",
      "Epoch 94/100\n",
      "60000/60000 [==============================] - 9s 150us/step - loss: 0.1046 - acc: 0.9721\n",
      "Epoch 95/100\n",
      "60000/60000 [==============================] - 10s 165us/step - loss: 0.1038 - acc: 0.9724\n",
      "Epoch 96/100\n",
      "60000/60000 [==============================] - 11s 178us/step - loss: 0.1030 - acc: 0.9725\n",
      "Epoch 97/100\n",
      "60000/60000 [==============================] - 11s 187us/step - loss: 0.1022 - acc: 0.9726\n",
      "Epoch 98/100\n",
      "60000/60000 [==============================] - 12s 200us/step - loss: 0.1013 - acc: 0.9731\n",
      "Epoch 99/100\n",
      "60000/60000 [==============================] - 11s 181us/step - loss: 0.1006 - acc: 0.9732\n",
      "Epoch 100/100\n",
      "60000/60000 [==============================] - 8s 137us/step - loss: 0.0998 - acc: 0.9733\n"
     ]
    },
    {
     "data": {
      "text/plain": [
       "<keras.callbacks.History at 0x7f0f9539b810>"
      ]
     },
     "execution_count": 23,
     "metadata": {},
     "output_type": "execute_result"
    }
   ],
   "source": [
    "model.fit(x_train, y_train, batch_size = 200, nb_epoch = 100, verbose = 1)"
   ]
  },
  {
   "cell_type": "code",
   "execution_count": 78,
   "metadata": {},
   "outputs": [
    {
     "name": "stdout",
     "output_type": "stream",
     "text": [
      "[[0. 0. 0. 0. 0. 0. 0. 0. 0. 1.]]\n"
     ]
    },
    {
     "data": {
      "image/png": "[encoded data removed]",
      "text/plain": [
       "<Figure size 432x288 with 1 Axes>"
      ]
     },
     "metadata": {
      "needs_background": "light"
     },
     "output_type": "display_data"
    }
   ],
   "source": [
    "image_index = 9\n",
    "plt.imshow(x_test[image_index].reshape(28, 28),cmap='Greys')\n",
    "pred = model.predict(x_test[image_index].reshape(1, 784))\n",
    "print(pred)"
   ]
  },
  {
   "cell_type": "code",
   "execution_count": null,
   "metadata": {},
   "outputs": [],
   "source": []
  },
  {
   "cell_type": "code",
   "execution_count": null,
   "metadata": {},
   "outputs": [],
   "source": []
  }
 ],
 "metadata": {
  "kernelspec": {
   "display_name": "Python 3",
   "language": "python",
   "name": "python3"
  },
  "language_info": {
   "codemirror_mode": {
    "name": "ipython",
    "version": 3
   },
   "file_extension": ".py",
   "mimetype": "text/x-python",
   "name": "python",
   "nbconvert_exporter": "python",
   "pygments_lexer": "ipython3",
   "version": "3.7.4"
  }
 },
 "nbformat": 4,
 "nbformat_minor": 2
}
